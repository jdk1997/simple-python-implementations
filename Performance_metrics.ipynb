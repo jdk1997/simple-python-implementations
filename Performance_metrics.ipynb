{
  "nbformat": 4,
  "nbformat_minor": 0,
  "metadata": {
    "colab": {
      "name": "Performance_metrics.ipynb",
      "provenance": [],
      "collapsed_sections": []
    },
    "language_info": {
      "codemirror_mode": {
        "name": "ipython",
        "version": 3
      },
      "file_extension": ".py",
      "mimetype": "text/x-python",
      "name": "python",
      "nbconvert_exporter": "python",
      "pygments_lexer": "ipython3",
      "version": "3.6.8"
    },
    "kernelspec": {
      "display_name": "Python 3",
      "language": "python",
      "name": "python3"
    }
  },
  "cells": [
    {
      "cell_type": "markdown",
      "metadata": {
        "id": "s0Ej_bXyQvnV"
      },
      "source": [
        "# Performance metrics without sklearn"
      ]
    },
    {
      "cell_type": "code",
      "metadata": {
        "id": "4CHb6NE7Qvnc"
      },
      "source": [
        "import numpy as np\n",
        "import pandas as pd\n",
        "import matplotlib.pyplot as plt"
      ],
      "execution_count": null,
      "outputs": []
    },
    {
      "cell_type": "markdown",
      "metadata": {
        "id": "oUxb_DvmCEQP"
      },
      "source": [
        "Confusion Matrix"
      ]
    },
    {
      "cell_type": "code",
      "metadata": {
        "id": "LzCRxnF_CYqn"
      },
      "source": [
        "#used to get confusion matrix, just pass actual and predicted values columns\n",
        "def getconfusionMatrix(y, y_pred):\n",
        "    true_neg, true_pos, false_neg, false_pos = 0, 0, 0, 0\n",
        "    \n",
        "    for i in range(len(y)):\n",
        "        if y[i] == 1 and y_pred[i] == 1:\n",
        "            true_pos += 1\n",
        "        elif y[i] == 1 and y_pred[i] == 0:\n",
        "            false_neg += 1\n",
        "        elif y[i] == 0 and y_pred[i] == 0:\n",
        "            true_neg += 1\n",
        "        elif y[i] == 0 and y_pred[i] == 1:\n",
        "            false_pos += 1\n",
        "    \n",
        "    conf_matrix = np.zeros((2, 2))\n",
        "\n",
        "    conf_matrix[0][0] = true_neg\n",
        "    conf_matrix[0][1] = false_neg\n",
        "    conf_matrix[1][0] = false_pos\n",
        "    conf_matrix[1][1] = true_pos\n",
        "\n",
        "    return conf_matrix\n"
      ],
      "execution_count": null,
      "outputs": []
    },
    {
      "cell_type": "markdown",
      "metadata": {
        "id": "cLVIlOejN6FL"
      },
      "source": [
        "F1 score"
      ]
    },
    {
      "cell_type": "code",
      "metadata": {
        "id": "Bno1YCNWGwTE"
      },
      "source": [
        "#used to compute F1 score, pass a confusion matrix\n",
        "def getf1score(conf_matrix):\n",
        "    precision = conf_matrix[1][1] / (conf_matrix[1][1] + conf_matrix[1][0])\n",
        "    recall = conf_matrix[1][1] / (conf_matrix[0][1] + conf_matrix[1][1])\n",
        "\n",
        "    f1_score = (2 * precision * recall) / (precision + recall)\n",
        "\n",
        "    return f1_score"
      ],
      "execution_count": null,
      "outputs": []
    },
    {
      "cell_type": "markdown",
      "metadata": {
        "id": "Ga6QiNi2N80c"
      },
      "source": [
        "AUC"
      ]
    },
    {
      "cell_type": "code",
      "metadata": {
        "id": "m1hdvsO2N_a4"
      },
      "source": [
        "def getAUC(dataframe):\n",
        "    pos_neg_count = dataframe['y'].value_counts()\n",
        "    total_pos = pos_neg_count[1]\n",
        "    total_neg = pos_neg_count[0]\n",
        "    tprs, fprs = [], []\n",
        "    \n",
        "    for prob in dataframe['proba']:\n",
        "        threshold = prob\n",
        "        dataframe['y_predicted'] = np.where(dataframe['proba'] >= threshold, 1.0, 0.0)\n",
        "\n",
        "        confusion_matrix = getconfusionMatrix(dataframe['y'], dataframe['y_predicted'])\n",
        "        tprs.append(confusion_matrix[1][1] / total_pos)\n",
        "        fprs.append(confusion_matrix[1][0] / total_neg)\n",
        "\n",
        "        dataframe.drop(columns=['y_predicted'])\n",
        "    \n",
        "    plt.plot(fprs, tprs)\n",
        "    plt.title(\"ROC plot\")\n",
        "    plt.xlabel(\"False positive rate\")\n",
        "    plt.ylabel(\"True positive rate\")\n",
        "    return np.trapz(tprs, fprs)\n"
      ],
      "execution_count": null,
      "outputs": []
    },
    {
      "cell_type": "code",
      "metadata": {
        "colab": {
          "base_uri": "https://localhost:8080/",
          "height": 499
        },
        "id": "oiKClpdnFq4t",
        "outputId": "9a058812-ac6d-442a-9abd-614507e3d1a2"
      },
      "source": [
        "data5a = pd.read_csv('5_a.csv')\n",
        "\n",
        "# https://stackoverflow.com/questions/21702342/creating-a-new-column-based-on-if-elif-else-condition\n",
        "data5a['y_predicted'] = np.where(data5a['proba'] >= 0.5, 1.0, 0.0)\n",
        "data5a.head()\n",
        "\n",
        "confusion_matrix = getconfusionMatrix(data5a['y'], data5a['y_predicted'])\n",
        "\n",
        "print('Confusion matrix:')\n",
        "print(confusion_matrix)\n",
        "\n",
        "print('\\nF1 score:')\n",
        "print(getf1score(confusion_matrix))\n",
        "\n",
        "print('\\nAUC:')\n",
        "data5a=data5a.sort_values(by='proba',ascending=False)\n",
        "\n",
        "# https://stackoverflow.com/questions/13411544/delete-a-column-from-a-pandas-dataframe\n",
        "data5a.drop(columns=['y_predicted'])\n",
        "print(getAUC(data5a))\n",
        "\n",
        "print('\\nAccuracy:')\n",
        "accuracy = (confusion_matrix[0][0] + confusion_matrix[1][1])/data5a.shape[0]\n",
        "print(accuracy)"
      ],
      "execution_count": null,
      "outputs": [
        {
          "output_type": "stream",
          "name": "stdout",
          "text": [
            "Confusion matrix:\n",
            "[[    0.     0.]\n",
            " [  100. 10000.]]\n",
            "\n",
            "F1 score:\n",
            "0.9950248756218906\n",
            "\n",
            "AUC:\n",
            "0.48829900000000004\n",
            "\n",
            "Accuracy:\n",
            "0.9900990099009901\n"
          ]
        },
        {
          "output_type": "display_data",
          "data": {
            "image/png": "[encoded data removed]",
            "text/plain": [
              "<Figure size 432x288 with 1 Axes>"
            ]
          },
          "metadata": {
            "needs_background": "light"
          }
        }
      ]
    },
    {
      "cell_type": "code",
      "metadata": {
        "id": "U2sKlq0YQvn5",
        "colab": {
          "base_uri": "https://localhost:8080/",
          "height": 499
        },
        "outputId": "b9cef21c-19c7-440d-947b-de490b733ae2"
      },
      "source": [
        "data5b = pd.read_csv('5_b.csv')\n",
        "\n",
        "# https://stackoverflow.com/questions/21702342/creating-a-new-column-based-on-if-elif-else-condition\n",
        "data5b['y_predicted'] = np.where(data5b['proba'] >= 0.5, 1.0, 0.0)\n",
        "data5b.head()\n",
        "\n",
        "confusion_matrix = getconfusionMatrix(data5b['y'], data5b['y_predicted'])\n",
        "\n",
        "print('Confusion matrix:')\n",
        "print(confusion_matrix)\n",
        "\n",
        "print('\\nF1 score:')\n",
        "print(getf1score(confusion_matrix))\n",
        "\n",
        "print('\\nAUC:')\n",
        "data5b = data5b.sort_values(by='proba',ascending=False)\n",
        "\n",
        "data5b.drop(columns=['y_predicted'])\n",
        "print(getAUC(data5b))\n",
        "\n",
        "print('\\nAccuracy:')\n",
        "accuracy = (confusion_matrix[0][0] + confusion_matrix[1][1])/data5b.shape[0]\n",
        "print(accuracy)"
      ],
      "execution_count": null,
      "outputs": [
        {
          "output_type": "stream",
          "name": "stdout",
          "text": [
            "Confusion matrix:\n",
            "[[9761.   45.]\n",
            " [ 239.   55.]]\n",
            "\n",
            "F1 score:\n",
            "0.2791878172588833\n",
            "\n",
            "AUC:\n",
            "0.9377570000000001\n",
            "\n",
            "Accuracy:\n",
            "0.9718811881188119\n"
          ]
        },
        {
          "output_type": "display_data",
          "data": {
            "image/png": "[encoded data removed]",
            "text/plain": [
              "<Figure size 432x288 with 1 Axes>"
            ]
          },
          "metadata": {
            "needs_background": "light"
          }
        }
      ]
    },
    {
      "cell_type": "code",
      "metadata": {
        "id": "x5HIJzq1QvoE",
        "colab": {
          "base_uri": "https://localhost:8080/"
        },
        "outputId": "2ed64132-8fd3-48ae-f310-38f137cd47e5"
      },
      "source": [
        "data5c = pd.read_csv('5_c.csv')\n",
        "\n",
        "def computemetric(dataframe):\n",
        "    pos_neg_count = dataframe['y'].value_counts()\n",
        "    total_pos = pos_neg_count[1]\n",
        "    total_neg = pos_neg_count[0]\n",
        "\n",
        "    metric = {}\n",
        "    \n",
        "    for prob in dataframe['prob']:\n",
        "        threshold = prob\n",
        "        dataframe['y_predicted'] = np.where(dataframe['prob'] >= threshold, 1.0, 0.0)\n",
        "\n",
        "        confusion_matrix = getconfusionMatrix(dataframe['y'], dataframe['y_predicted'])\n",
        "        metric_value = (500 * confusion_matrix[0][1]) + (100 * confusion_matrix[1][0])\n",
        "\n",
        "        metric[prob] = metric_value\n",
        "        dataframe.drop(columns=['y_predicted'])\n",
        "\n",
        "    return metric\n",
        "\n",
        "data5c = data5c.sort_values(by='prob',ascending=False)\n",
        "computed_metric = computemetric(data5c)\n",
        "best_prob = min(computed_metric, key=computed_metric .get)\n",
        "\n",
        "print(\"Minimum: \" + str(best_prob))\n",
        "    "
      ],
      "execution_count": null,
      "outputs": [
        {
          "output_type": "stream",
          "name": "stdout",
          "text": [
            "Minimum: 0.2300390278970873\n"
          ]
        }
      ]
    },
    {
      "cell_type": "code",
      "source": [
        "data5d = pd.read_csv('5_d.csv')\n",
        "\n",
        "def computeerrors(dataframe):\n",
        "    errors_val = []\n",
        "    abs_error_val = []\n",
        "    # https://stackoverflow.com/questions/16476924/how-to-iterate-over-rows-in-a-dataframe-in-pandas\n",
        "    for index, row in dataframe.iterrows():\n",
        "        errors_val.append(row['y'] - row['pred'])\n",
        "        abs_error_val.append(abs(row['y'] - row['pred']))\n",
        "    return errors_val, abs_error_val\n",
        "\n",
        "# Compute Mean Square Error\n",
        "def computemean_sqerror(dataframe):\n",
        "    return sum(dataframe['error'] ** 2) / len(dataframe)\n",
        "\n",
        "# Compute MAPE\n",
        "def computeMAPE(dataframe):\n",
        "    return sum(dataframe['abs_error']) / sum(dataframe['y'])\n",
        "\n",
        "# Compute R^2\n",
        "def computeRsquared(dataframe):\n",
        "    ss_res = sum(dataframe['error'] ** 2)\n",
        "    ss_total = sum((dataframe['y'] - dataframe['y'].mean()) ** 2)\n",
        "    return 1 - (ss_res / ss_total)\n",
        "\n",
        "errors, abs_errors = computeerrors(data5d)\n",
        "data5d['error'] = errors\n",
        "data5d['abs_error'] = abs_errors\n",
        "\n",
        "print(\"Mean square error: \" + str(computemean_sqerror(data5d)))\n",
        "print(\"\\nMAPE: \" + str(computeMAPE(data5d)))\n",
        "print(\"\\nR^2: \" + str(computeRsquared(data5d)))"
      ],
      "metadata": {
        "colab": {
          "base_uri": "https://localhost:8080/"
        },
        "id": "7vus-lHLUCHz",
        "outputId": "be3f1b62-707a-45db-fabd-72a8d4cc5800"
      },
      "execution_count": null,
      "outputs": [
        {
          "output_type": "stream",
          "name": "stdout",
          "text": [
            "Mean square error: 177.16569974554707\n",
            "\n",
            "MAPE: 0.1291202994009687\n",
            "\n",
            "R^2: 0.9563582786990964\n"
          ]
        }
      ]
    }
  ]
}